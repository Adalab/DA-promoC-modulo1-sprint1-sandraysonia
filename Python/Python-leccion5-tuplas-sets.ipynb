{
 "cells": [
  {
   "cell_type": "markdown",
   "metadata": {},
   "source": [
    "# TUPLAS"
   ]
  },
  {
   "cell_type": "code",
   "execution_count": 29,
   "metadata": {},
   "outputs": [
    {
     "data": {
      "text/plain": [
       "('A',)"
      ]
     },
     "execution_count": 29,
     "metadata": {},
     "output_type": "execute_result"
    }
   ],
   "source": [
    "# 1. Cread una tupla que contenga la letra \"A\"\n",
    "tupla1 = \"A\",\n",
    "tupla1"
   ]
  },
  {
   "cell_type": "code",
   "execution_count": 4,
   "metadata": {},
   "outputs": [
    {
     "data": {
      "text/plain": [
       "('A', 'd', 'a', 'l', 'a', 'b')"
      ]
     },
     "execution_count": 4,
     "metadata": {},
     "output_type": "execute_result"
    }
   ],
   "source": [
    "# 2. Añadir los siguientes elementos: \"d\", \"a\", \"l\", \"a\", \"b\"\n",
    "tupla2 = \"d\", \"a\", \"l\", \"a\", \"b\"\n",
    "tupla1 = tupla1 + tupla2\n",
    "tupla1\n",
    "\n",
    "# Se puede hacer definiendo de nuevo la variable tupla1 y sumándole una nueva tupla. No se podría añadir sin más."
   ]
  },
  {
   "cell_type": "code",
   "execution_count": 30,
   "metadata": {},
   "outputs": [
    {
     "name": "stdout",
     "output_type": "stream",
     "text": [
      "['A', 'd', 'a', 'l', 'a', 'b']\n"
     ]
    }
   ],
   "source": [
    "# 3. Pensad de que forma podríamos tener una tupla que contenga el siguiente contenido: (\"A\", \"d\", \"a\", \"l\", \"a\", \"b\")\n",
    "# En esta ocasión lo hacemos convirtiendo primero la tupla en lista y añadiendole otra lista formada por los elementos que faltan. Y volvemos a convertirlo en tupla\n",
    "list_tupla1 = list(tupla1)\n",
    "lista2 = [\"d\", \"a\", \"l\", \"a\", \"b\"]\n",
    "list_tupla1.extend(lista2)\n",
    "print(list_tupla1)"
   ]
  },
  {
   "cell_type": "code",
   "execution_count": 31,
   "metadata": {},
   "outputs": [
    {
     "name": "stdout",
     "output_type": "stream",
     "text": [
      "('A', 'd', 'a', 'l', 'a', 'b')\n"
     ]
    }
   ],
   "source": [
    "tupla3 = tuple(list_tupla1)\n",
    "print(tupla3)"
   ]
  },
  {
   "cell_type": "code",
   "execution_count": 7,
   "metadata": {},
   "outputs": [
    {
     "data": {
      "text/plain": [
       "3"
      ]
     },
     "execution_count": 7,
     "metadata": {},
     "output_type": "execute_result"
    }
   ],
   "source": [
    "# 4. Cuál es el índice de la letra \"l\"?\n",
    "tupla1.index(\"l\")"
   ]
  },
  {
   "cell_type": "code",
   "execution_count": 8,
   "metadata": {},
   "outputs": [
    {
     "data": {
      "text/plain": [
       "2"
      ]
     },
     "execution_count": 8,
     "metadata": {},
     "output_type": "execute_result"
    }
   ],
   "source": [
    "# 5. Cuántas veces aparece la letra \"a\" en nuestra tupla?\n",
    "tupla1.count(\"a\")"
   ]
  },
  {
   "cell_type": "markdown",
   "metadata": {},
   "source": [
    "# SETS"
   ]
  },
  {
   "cell_type": "code",
   "execution_count": 9,
   "metadata": {},
   "outputs": [],
   "source": [
    "# 1. Dados los siguientes sets\n",
    "set1 = {1, 3, 6, 2, 8, 9}\n",
    "set2 = {2, 1, 9, 3, 10, 18}"
   ]
  },
  {
   "cell_type": "code",
   "execution_count": 11,
   "metadata": {},
   "outputs": [
    {
     "data": {
      "text/plain": [
       "{6, 8}"
      ]
     },
     "execution_count": 11,
     "metadata": {},
     "output_type": "execute_result"
    }
   ],
   "source": [
    "# 2. Identifica los elementos que están en set1 pero no en set 2. Almacenad los resultados en una variable que se llame set3\n",
    "set3 = set1.difference(set2)\n",
    "print(set3)"
   ]
  },
  {
   "cell_type": "code",
   "execution_count": 12,
   "metadata": {},
   "outputs": [
    {
     "data": {
      "text/plain": [
       "{10, 18}"
      ]
     },
     "execution_count": 12,
     "metadata": {},
     "output_type": "execute_result"
    }
   ],
   "source": [
    "# 3. Identifica los elementos que están en set2 pero no en set1. Almacenad los resultados en una variable que se llame set4\n",
    "set4 = set2.difference(set1)\n",
    "print(set4)"
   ]
  },
  {
   "cell_type": "code",
   "execution_count": 13,
   "metadata": {},
   "outputs": [
    {
     "name": "stdout",
     "output_type": "stream",
     "text": [
      "{1, 2, 3, 9}\n"
     ]
    }
   ],
   "source": [
    "# 4. Identifica los elementos comunes entre el set1 y el set2. Almacena los resultados en una variable que se llame set5\n",
    "set5 = set1.intersection(set2)\n",
    "print(set5)"
   ]
  },
  {
   "cell_type": "code",
   "execution_count": 16,
   "metadata": {},
   "outputs": [
    {
     "name": "stdout",
     "output_type": "stream",
     "text": [
      "{8, 18, 10, 6}\n"
     ]
    }
   ],
   "source": [
    "# 5. Cread un set vacío llamado set6. Añadid el set3 y el set4 al set6\n",
    "set6 = set()\n",
    "set6.update(set3, set4)\n",
    "print(set6)"
   ]
  },
  {
   "cell_type": "code",
   "execution_count": 17,
   "metadata": {},
   "outputs": [
    {
     "data": {
      "text/plain": [
       "False"
      ]
     },
     "execution_count": 17,
     "metadata": {},
     "output_type": "execute_result"
    }
   ],
   "source": [
    "# 6. Es el set1 igual al set6?\n",
    "set1 == set6"
   ]
  },
  {
   "cell_type": "code",
   "execution_count": 19,
   "metadata": {},
   "outputs": [
    {
     "data": {
      "text/plain": [
       "False"
      ]
     },
     "execution_count": 19,
     "metadata": {},
     "output_type": "execute_result"
    }
   ],
   "source": [
    "# 7. Chequead si el set1 contiene al set2. Pista: usar issubset()\n",
    "set2.issubset(set1)"
   ]
  },
  {
   "cell_type": "code",
   "execution_count": 21,
   "metadata": {},
   "outputs": [],
   "source": [
    "# 8. Eliminad el primer elemento del set6\n",
    "# No se puede eliminar el primero porque los elementos de un set no están indexados. Y por lo tanto no tienen un orden definido\n",
    "# Sí se podría eliminar un elemento al azar o un elemento en concreto"
   ]
  }
 ],
 "metadata": {
  "kernelspec": {
   "display_name": "Python 3.9.7 ('base')",
   "language": "python",
   "name": "python3"
  },
  "language_info": {
   "codemirror_mode": {
    "name": "ipython",
    "version": 3
   },
   "file_extension": ".py",
   "mimetype": "text/x-python",
   "name": "python",
   "nbconvert_exporter": "python",
   "pygments_lexer": "ipython3",
   "version": "3.9.7"
  },
  "orig_nbformat": 4,
  "vscode": {
   "interpreter": {
    "hash": "f25093244bacc7e62393c275f4a06a2027bcbdb9a67d7fe53680dbd2484adc03"
   }
  }
 },
 "nbformat": 4,
 "nbformat_minor": 2
}
