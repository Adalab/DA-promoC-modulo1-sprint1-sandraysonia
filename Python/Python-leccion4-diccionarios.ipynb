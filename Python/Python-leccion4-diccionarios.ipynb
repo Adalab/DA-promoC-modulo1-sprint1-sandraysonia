{
 "cells": [
  {
   "cell_type": "code",
   "execution_count": 2,
   "metadata": {},
   "outputs": [
    {
     "data": {
      "text/plain": [
       "['Sonia', 'Sandra', 'Ana']"
      ]
     },
     "execution_count": 2,
     "metadata": {},
     "output_type": "execute_result"
    }
   ],
   "source": [
    "# Insertar 3 nombres empleando la función input():\n",
    "nombres = input('Escriba tres nombres separados por espacios').split()\n",
    "nombres"
   ]
  },
  {
   "cell_type": "code",
   "execution_count": 42,
   "metadata": {},
   "outputs": [
    {
     "data": {
      "text/plain": [
       "['Ruiz', 'Fernandez', 'Garcia']"
      ]
     },
     "execution_count": 42,
     "metadata": {},
     "output_type": "execute_result"
    }
   ],
   "source": [
    "# Insertar 3 apellidos empleando la función input():\n",
    "apellidos = input ('Escriba tres apellidos separados por espacios').split()\n",
    "apellidos"
   ]
  },
  {
   "cell_type": "code",
   "execution_count": 22,
   "metadata": {},
   "outputs": [
    {
     "data": {
      "text/plain": [
       "['29', '44', '25']"
      ]
     },
     "execution_count": 22,
     "metadata": {},
     "output_type": "execute_result"
    }
   ],
   "source": [
    "# Insertar 3 edades empleando la función input():\n",
    "edades = input('Escriba tres edades separadas por espacios').split()\n",
    "edades"
   ]
  },
  {
   "cell_type": "code",
   "execution_count": 23,
   "metadata": {},
   "outputs": [
    {
     "data": {
      "text/plain": [
       "[29, 44, 25]"
      ]
     },
     "execution_count": 23,
     "metadata": {},
     "output_type": "execute_result"
    }
   ],
   "source": [
    "# Convertir las edades en un integer:\n",
    "edades = [int(i) for i in edades]\n",
    "edades"
   ]
  },
  {
   "cell_type": "code",
   "execution_count": 24,
   "metadata": {},
   "outputs": [
    {
     "data": {
      "text/plain": [
       "['1', '2', '0']"
      ]
     },
     "execution_count": 24,
     "metadata": {},
     "output_type": "execute_result"
    }
   ],
   "source": [
    "# Insertar número de hijos empleando la función input():\n",
    "hijos = input('Escriba el número de hijos de las tres personas separadas por espacios').split()\n",
    "hijos"
   ]
  },
  {
   "cell_type": "code",
   "execution_count": 25,
   "metadata": {},
   "outputs": [
    {
     "data": {
      "text/plain": [
       "[1, 2, 0]"
      ]
     },
     "execution_count": 25,
     "metadata": {},
     "output_type": "execute_result"
    }
   ],
   "source": [
    "# Convertir el número de hijos en un integer:\n",
    "hijos = [int(i) for i in hijos]\n",
    "hijos"
   ]
  },
  {
   "cell_type": "code",
   "execution_count": 26,
   "metadata": {},
   "outputs": [
    {
     "data": {
      "text/plain": [
       "{'nombres': ['Sonia', 'Sandra', 'Ana'],\n",
       " 'apellidos': ['Ruiz', 'Fernandez', 'Garcia'],\n",
       " 'edades': [29, 44, 25],\n",
       " 'hijos': [1, 2, 0]}"
      ]
     },
     "execution_count": 26,
     "metadata": {},
     "output_type": "execute_result"
    }
   ],
   "source": [
    "# Crear un diccionario con los datos obtenidos:\n",
    "datos_personas = {'nombres':nombres, 'apellidos':apellidos, 'edades':edades, 'hijos':hijos}\n",
    "datos_personas"
   ]
  },
  {
   "cell_type": "code",
   "execution_count": 27,
   "metadata": {},
   "outputs": [
    {
     "data": {
      "text/plain": [
       "{'nombres': ['Sonia', 'Sandra', 'Ana'],\n",
       " 'apellidos': ['Ruiz', 'Fernandez', 'Garcia'],\n",
       " 'edades': [29, 44, 25],\n",
       " 'hijos': [1, 2, 0],\n",
       " 'hermanos': [0, 1, 3]}"
      ]
     },
     "execution_count": 27,
     "metadata": {},
     "output_type": "execute_result"
    }
   ],
   "source": [
    "# Añadir una nueva key con el número de hermanos:\n",
    "datos_personas['hermanos'] = [0, 1, 3]\n",
    "datos_personas"
   ]
  },
  {
   "cell_type": "code",
   "execution_count": 28,
   "metadata": {},
   "outputs": [
    {
     "data": {
      "text/plain": [
       "dict_keys(['nombres', 'apellidos', 'edades', 'hijos', 'hermanos'])"
      ]
     },
     "execution_count": 28,
     "metadata": {},
     "output_type": "execute_result"
    }
   ],
   "source": [
    "# Mostrar las keys del diccionario:\n",
    "datos_personas.keys()"
   ]
  },
  {
   "cell_type": "code",
   "execution_count": 29,
   "metadata": {},
   "outputs": [
    {
     "data": {
      "text/plain": [
       "dict_values([['Sonia', 'Sandra', 'Ana'], ['Ruiz', 'Fernandez', 'Garcia'], [29, 44, 25], [1, 2, 0], [0, 1, 3]])"
      ]
     },
     "execution_count": 29,
     "metadata": {},
     "output_type": "execute_result"
    }
   ],
   "source": [
    "# Mostrar los values de ese diccionario:\n",
    "datos_personas.values()"
   ]
  },
  {
   "cell_type": "code",
   "execution_count": 30,
   "metadata": {},
   "outputs": [
    {
     "data": {
      "text/plain": [
       "['Sonia', 'Sandra', 'Ana']"
      ]
     },
     "execution_count": 30,
     "metadata": {},
     "output_type": "execute_result"
    }
   ],
   "source": [
    "# Mostrar los valores de la key 'nombres', modo 1:\n",
    "datos_personas['nombres']"
   ]
  },
  {
   "cell_type": "code",
   "execution_count": 31,
   "metadata": {},
   "outputs": [
    {
     "data": {
      "text/plain": [
       "['Sonia', 'Sandra', 'Ana']"
      ]
     },
     "execution_count": 31,
     "metadata": {},
     "output_type": "execute_result"
    }
   ],
   "source": [
    "# Mostrar los valores de la key 'nombres', modo 2:\n",
    "datos_personas.get('nombres')"
   ]
  },
  {
   "cell_type": "code",
   "execution_count": 32,
   "metadata": {},
   "outputs": [
    {
     "data": {
      "text/plain": [
       "'Desconocida'"
      ]
     },
     "execution_count": 32,
     "metadata": {},
     "output_type": "execute_result"
    }
   ],
   "source": [
    "# Extraer los valores de la key 'nacionalidad', si no existe crear dicha key con value 'Desconocida':\n",
    "datos_personas.setdefault('nacionalidad', 'Desconocida')"
   ]
  },
  {
   "cell_type": "code",
   "execution_count": 33,
   "metadata": {},
   "outputs": [
    {
     "data": {
      "text/plain": [
       "{'nombres': ['Sonia', 'Sandra', 'Ana'],\n",
       " 'apellidos': ['Ruiz', 'Fernandez', 'Garcia'],\n",
       " 'edades': [29, 44, 25],\n",
       " 'hijos': [1, 2, 0],\n",
       " 'hermanos': [0, 1, 3],\n",
       " 'nacionalidad': 'Desconocida'}"
      ]
     },
     "execution_count": 33,
     "metadata": {},
     "output_type": "execute_result"
    }
   ],
   "source": [
    "datos_personas\n"
   ]
  },
  {
   "cell_type": "code",
   "execution_count": 34,
   "metadata": {},
   "outputs": [
    {
     "data": {
      "text/plain": [
       "[('apellidos', ['Ruiz', 'Fernandez', 'Garcia']),\n",
       " ('edades', [29, 44, 25]),\n",
       " ('hermanos', [0, 1, 3]),\n",
       " ('hijos', [1, 2, 0]),\n",
       " ('nacionalidad', 'Desconocida'),\n",
       " ('nombres', ['Sonia', 'Sandra', 'Ana'])]"
      ]
     },
     "execution_count": 34,
     "metadata": {},
     "output_type": "execute_result"
    }
   ],
   "source": [
    "# Ordenar los elementos del diccionario obteniendo una tupla:\n",
    "sorted(datos_personas.items())"
   ]
  },
  {
   "cell_type": "code",
   "execution_count": 35,
   "metadata": {},
   "outputs": [],
   "source": [
    "# Convertir la tupla anerior en un nuevo diccionario:\n",
    "datos_personas_dic = dict(sorted(datos_personas.items()))"
   ]
  },
  {
   "cell_type": "code",
   "execution_count": 36,
   "metadata": {},
   "outputs": [
    {
     "data": {
      "text/plain": [
       "{'apellidos': ['Ruiz', 'Fernandez', 'Garcia'],\n",
       " 'edades': [29, 44, 25],\n",
       " 'hermanos': [0, 1, 3],\n",
       " 'hijos': [1, 2, 0],\n",
       " 'nacionalidad': 'Desconocida',\n",
       " 'nombres': ['Sonia', 'Sandra', 'Ana']}"
      ]
     },
     "execution_count": 36,
     "metadata": {},
     "output_type": "execute_result"
    }
   ],
   "source": [
    "datos_personas_dic"
   ]
  },
  {
   "cell_type": "code",
   "execution_count": 37,
   "metadata": {},
   "outputs": [
    {
     "data": {
      "text/plain": [
       "'Desconocida'"
      ]
     },
     "execution_count": 37,
     "metadata": {},
     "output_type": "execute_result"
    }
   ],
   "source": [
    "# Eliminar la key 'nacionalidad':\n",
    "datos_personas_dic.pop('nacionalidad')"
   ]
  },
  {
   "cell_type": "code",
   "execution_count": 38,
   "metadata": {},
   "outputs": [
    {
     "data": {
      "text/plain": [
       "{'apellidos': ['Ruiz', 'Fernandez', 'Garcia'],\n",
       " 'edades': [29, 44, 25],\n",
       " 'hermanos': [0, 1, 3],\n",
       " 'hijos': [1, 2, 0],\n",
       " 'nombres': ['Sonia', 'Sandra', 'Ana']}"
      ]
     },
     "execution_count": 38,
     "metadata": {},
     "output_type": "execute_result"
    }
   ],
   "source": [
    "datos_personas_dic"
   ]
  },
  {
   "cell_type": "code",
   "execution_count": 39,
   "metadata": {},
   "outputs": [
    {
     "data": {
      "text/plain": [
       "'Sandra'"
      ]
     },
     "execution_count": 39,
     "metadata": {},
     "output_type": "execute_result"
    }
   ],
   "source": [
    "# Calcular la persona con mayor número de hijos:\n",
    "datos_personas_dic.get('nombres')[hijos.index(max(hijos))]"
   ]
  },
  {
   "cell_type": "code",
   "execution_count": 40,
   "metadata": {},
   "outputs": [
    {
     "data": {
      "text/plain": [
       "'Ana'"
      ]
     },
     "execution_count": 40,
     "metadata": {},
     "output_type": "execute_result"
    }
   ],
   "source": [
    "# Calcular la persona de menor edad:\n",
    "datos_personas_dic.get('nombres')[edades.index(min(edades))]"
   ]
  },
  {
   "cell_type": "markdown",
   "metadata": {},
   "source": []
  }
 ],
 "metadata": {
  "kernelspec": {
   "display_name": "Python 3.9.7 ('base')",
   "language": "python",
   "name": "python3"
  },
  "language_info": {
   "codemirror_mode": {
    "name": "ipython",
    "version": 3
   },
   "file_extension": ".py",
   "mimetype": "text/x-python",
   "name": "python",
   "nbconvert_exporter": "python",
   "pygments_lexer": "ipython3",
   "version": "3.9.7"
  },
  "orig_nbformat": 4,
  "vscode": {
   "interpreter": {
    "hash": "468215beec16e96f99bc366ecab75b1d75db716e353e0417cbdb37be88f0d883"
   }
  }
 },
 "nbformat": 4,
 "nbformat_minor": 2
}
