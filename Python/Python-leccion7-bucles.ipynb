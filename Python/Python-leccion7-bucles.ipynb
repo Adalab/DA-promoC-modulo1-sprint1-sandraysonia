{
 "cells": [
  {
   "cell_type": "code",
   "execution_count": 39,
   "metadata": {},
   "outputs": [
    {
     "name": "stdout",
     "output_type": "stream",
     "text": [
      "108.243216\n"
     ]
    }
   ],
   "source": [
    "# 1. Escribid un programa que pregunte la cantidad a invertir, el interés anual y el número de años. Obtener el capital obtenido\n",
    "capital = int(input(\"Cuánto dinero va a invertir?\"))\n",
    "interes = int(input(\"A qué interés?\"))\n",
    "tiempo = int(input(\"Durante cuantos años?\"))\n",
    "for i in range(tiempo):\n",
    "    capital += (capital*interes/100)\n",
    "print(capital)\n",
    "# el range tiene en cuenta el 0 como primer año, por lo que no hace falta hacer tiempo + 1"
   ]
  },
  {
   "cell_type": "code",
   "execution_count": 16,
   "metadata": {},
   "outputs": [
    {
     "name": "stdout",
     "output_type": "stream",
     "text": [
      "3\n"
     ]
    }
   ],
   "source": [
    "# 2. Escribid un programa que pregunte una frase y una letra, y muestre el número de veces que aparece la letra en la frase\n",
    "frase = input(\"Escribe una frase\")\n",
    "letra = input(\"Elige una letra\")\n",
    "numero_letra = 0\n",
    "for i in frase:\n",
    "    if letra == i:\n",
    "        numero_letra += 1\n",
    "print(numero_letra)"
   ]
  },
  {
   "cell_type": "code",
   "execution_count": 40,
   "metadata": {},
   "outputs": [
    {
     "name": "stdout",
     "output_type": "stream",
     "text": [
      "1 x 2 = 2\n",
      "2 x 2 = 4\n",
      "3 x 2 = 6\n",
      "4 x 2 = 8\n",
      "5 x 2 = 10\n",
      "6 x 2 = 12\n",
      "7 x 2 = 14\n",
      "8 x 2 = 16\n",
      "9 x 2 = 18\n",
      "10 x 2 = 20\n"
     ]
    }
   ],
   "source": [
    "# 3. Escribid un programa que nos devuelva la tabla de multiplicar de un número especificado en un input\n",
    "numero = int(input(\"Escriba un número\"))\n",
    "for i in range(1,11):\n",
    "    print(i, \"x\", numero, \"=\", i*numero)"
   ]
  },
  {
   "cell_type": "code",
   "execution_count": 35,
   "metadata": {},
   "outputs": [
    {
     "name": "stdout",
     "output_type": "stream",
     "text": [
      "75\n",
      "150\n",
      "145\n"
     ]
    }
   ],
   "source": [
    "# 4. Escribid un programa que muestre solo los números que cumplan unas condiciones\n",
    "numbers = [12, 75, 150, 180, 145, 525, 50]\n",
    "for i in numbers:\n",
    "    if i % 5 == 0:\n",
    "        if i > 500:\n",
    "            break\n",
    "        if i > 150:\n",
    "            continue\n",
    "        print(i)"
   ]
  },
  {
   "cell_type": "code",
   "execution_count": 55,
   "metadata": {},
   "outputs": [
    {
     "name": "stdout",
     "output_type": "stream",
     "text": [
      "50\n",
      "40\n",
      "30\n",
      "20\n",
      "10\n"
     ]
    }
   ],
   "source": [
    "# 5. Imprimir la lista en el orden inverso\n",
    "list1 = [10, 20, 30, 40, 50]\n",
    "indice = -1\n",
    "for i in list1:\n",
    "    print(list1[indice])\n",
    "    indice -= 1"
   ]
  },
  {
   "cell_type": "code",
   "execution_count": 49,
   "metadata": {},
   "outputs": [
    {
     "name": "stdout",
     "output_type": "stream",
     "text": [
      "1\n",
      "4\n",
      "9\n"
     ]
    }
   ],
   "source": [
    "# 6. \n",
    "for i in ['1', '2', '3']:\n",
    "    try:\n",
    "        print(i**2)\n",
    "    except:\n",
    "        print(int(i)**2)"
   ]
  }
 ],
 "metadata": {
  "kernelspec": {
   "display_name": "Python 3.9.7 ('base')",
   "language": "python",
   "name": "python3"
  },
  "language_info": {
   "codemirror_mode": {
    "name": "ipython",
    "version": 3
   },
   "file_extension": ".py",
   "mimetype": "text/x-python",
   "name": "python",
   "nbconvert_exporter": "python",
   "pygments_lexer": "ipython3",
   "version": "3.9.7"
  },
  "orig_nbformat": 4,
  "vscode": {
   "interpreter": {
    "hash": "f25093244bacc7e62393c275f4a06a2027bcbdb9a67d7fe53680dbd2484adc03"
   }
  }
 },
 "nbformat": 4,
 "nbformat_minor": 2
}
